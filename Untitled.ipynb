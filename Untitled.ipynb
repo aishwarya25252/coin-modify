{
 "cells": [
  {
   "cell_type": "code",
   "execution_count": 2,
   "metadata": {},
   "outputs": [],
   "source": [
    "import numpy as np\n",
    "import pandas as pd\n",
    "from importlib import *"
   ]
  },
  {
   "cell_type": "code",
   "execution_count": 3,
   "metadata": {},
   "outputs": [],
   "source": [
    "from GeneSet import *\n",
    "import network"
   ]
  },
  {
   "cell_type": "code",
   "execution_count": 4,
   "metadata": {},
   "outputs": [],
   "source": [
    "data1=pd.read_csv(\"data\\\\GSE2034_series_matrix.csv\")\n",
    "data2=pd.read_csv(\"data\\\\GSE12093_series_matrix.csv\")\n",
    "data3=pd.read_csv(\"data\\\\GSE16391_series_matrix.csv\")\n",
    "data4=pd.read_csv(\"data\\\\GSE16446_series_matrix.csv\")\n",
    "data5=pd.read_csv(\"data\\\\GSE17705_series_matrix.csv\")\n",
    "data6=pd.read_csv(\"data\\\\GSE19615_series_matrix.csv\")\n",
    "data7=pd.read_csv(\"data\\\\GSE20181_series_matrix.csv\")\n",
    "data8=pd.read_csv(\"data\\\\GSE20194_series_matrix.csv\")\n",
    "data9=pd.read_csv(\"data\\\\GSE25055_series_matrix.csv\")\n",
    "data10=pd.read_csv(\"data\\\\GSE25065_series_matrix.csv\")\n",
    "data11=pd.read_csv(\"data\\\\GSE32646_series_matrix.csv\")"
   ]
  },
  {
   "cell_type": "code",
   "execution_count": 4,
   "metadata": {},
   "outputs": [
    {
     "ename": "KeyboardInterrupt",
     "evalue": "",
     "output_type": "error",
     "traceback": [
      "\u001b[1;31m---------------------------------------------------------------------------\u001b[0m",
      "\u001b[1;31mKeyboardInterrupt\u001b[0m                         Traceback (most recent call last)",
      "\u001b[1;32m<ipython-input-4-c561b494cb33>\u001b[0m in \u001b[0;36m<module>\u001b[1;34m\u001b[0m\n\u001b[1;32m----> 1\u001b[1;33m \u001b[0mg\u001b[0m\u001b[1;33m=\u001b[0m\u001b[0mGeneSet\u001b[0m\u001b[1;33m(\u001b[0m\u001b[1;33m[\u001b[0m\u001b[0mdata1\u001b[0m\u001b[1;33m,\u001b[0m\u001b[0mdata3\u001b[0m\u001b[1;33m,\u001b[0m\u001b[0mdata2\u001b[0m\u001b[1;33m,\u001b[0m\u001b[0mdata4\u001b[0m\u001b[1;33m,\u001b[0m\u001b[0mdata5\u001b[0m\u001b[1;33m]\u001b[0m\u001b[1;33m,\u001b[0m\u001b[1;36m0\u001b[0m\u001b[1;33m,\u001b[0m\u001b[1;36m60\u001b[0m\u001b[1;33m,\u001b[0m\u001b[0mpd\u001b[0m\u001b[1;33m)\u001b[0m\u001b[1;33m\u001b[0m\u001b[1;33m\u001b[0m\u001b[0m\n\u001b[0m",
      "\u001b[1;32m~\\PycharmProjects\\coin-modify\\GeneSet.py\u001b[0m in \u001b[0;36m__init__\u001b[1;34m(self, dataSets, g, n, pd)\u001b[0m\n\u001b[0;32m      3\u001b[0m         \u001b[0mself\u001b[0m\u001b[1;33m.\u001b[0m\u001b[0mpd\u001b[0m\u001b[1;33m=\u001b[0m\u001b[0mpd\u001b[0m\u001b[1;33m\u001b[0m\u001b[1;33m\u001b[0m\u001b[0m\n\u001b[0;32m      4\u001b[0m         \u001b[0mself\u001b[0m\u001b[1;33m.\u001b[0m\u001b[0mdataSets\u001b[0m \u001b[1;33m=\u001b[0m \u001b[0mself\u001b[0m\u001b[1;33m.\u001b[0m\u001b[0mpreprocess\u001b[0m\u001b[1;33m(\u001b[0m\u001b[0mdataSets\u001b[0m\u001b[1;33m)\u001b[0m\u001b[1;33m\u001b[0m\u001b[1;33m\u001b[0m\u001b[0m\n\u001b[1;32m----> 5\u001b[1;33m         \u001b[0mself\u001b[0m\u001b[1;33m.\u001b[0m\u001b[0mfinalGeneSet\u001b[0m \u001b[1;33m=\u001b[0m \u001b[0mself\u001b[0m\u001b[1;33m.\u001b[0m\u001b[0mcalculate\u001b[0m\u001b[1;33m(\u001b[0m\u001b[0mself\u001b[0m\u001b[1;33m.\u001b[0m\u001b[0mdataSets\u001b[0m\u001b[1;33m,\u001b[0m \u001b[0mg\u001b[0m\u001b[1;33m,\u001b[0m \u001b[0mn\u001b[0m\u001b[1;33m)\u001b[0m\u001b[1;33m\u001b[0m\u001b[1;33m\u001b[0m\u001b[0m\n\u001b[0m\u001b[0;32m      6\u001b[0m \u001b[1;33m\u001b[0m\u001b[0m\n\u001b[0;32m      7\u001b[0m     \u001b[1;32mdef\u001b[0m \u001b[0mpreprocess\u001b[0m\u001b[1;33m(\u001b[0m\u001b[0mself\u001b[0m\u001b[1;33m,\u001b[0m \u001b[0mdataSets\u001b[0m\u001b[1;33m)\u001b[0m\u001b[1;33m:\u001b[0m\u001b[1;33m\u001b[0m\u001b[1;33m\u001b[0m\u001b[0m\n",
      "\u001b[1;32m~\\PycharmProjects\\coin-modify\\GeneSet.py\u001b[0m in \u001b[0;36mcalculate\u001b[1;34m(self, dataSets, g, n)\u001b[0m\n\u001b[0;32m     20\u001b[0m         \u001b[0mGgene\u001b[0m \u001b[1;33m=\u001b[0m \u001b[0mset\u001b[0m\u001b[1;33m(\u001b[0m\u001b[1;33m)\u001b[0m\u001b[1;31m#self.Ggene(dataSets, g) changed temporary\u001b[0m\u001b[1;33m\u001b[0m\u001b[1;33m\u001b[0m\u001b[0m\n\u001b[0;32m     21\u001b[0m         \u001b[1;32mfor\u001b[0m \u001b[0mi\u001b[0m \u001b[1;32min\u001b[0m \u001b[0mrange\u001b[0m\u001b[1;33m(\u001b[0m\u001b[0mlen\u001b[0m\u001b[1;33m(\u001b[0m\u001b[0mdataSets\u001b[0m\u001b[1;33m)\u001b[0m\u001b[1;33m)\u001b[0m\u001b[1;33m:\u001b[0m\u001b[1;33m\u001b[0m\u001b[1;33m\u001b[0m\u001b[0m\n\u001b[1;32m---> 22\u001b[1;33m             \u001b[0mGgene\u001b[0m \u001b[1;33m=\u001b[0m \u001b[0mGgene\u001b[0m\u001b[1;33m.\u001b[0m\u001b[0munion\u001b[0m\u001b[1;33m(\u001b[0m\u001b[0mself\u001b[0m\u001b[1;33m.\u001b[0m\u001b[0mNgene\u001b[0m\u001b[1;33m(\u001b[0m\u001b[0mdataSets\u001b[0m\u001b[1;33m[\u001b[0m\u001b[0mi\u001b[0m\u001b[1;33m]\u001b[0m\u001b[1;33m,\u001b[0m \u001b[0mn\u001b[0m\u001b[1;33m)\u001b[0m\u001b[1;33m)\u001b[0m\u001b[1;33m\u001b[0m\u001b[1;33m\u001b[0m\u001b[0m\n\u001b[0m\u001b[0;32m     23\u001b[0m         \u001b[1;32mreturn\u001b[0m \u001b[0mGgene\u001b[0m\u001b[1;33m\u001b[0m\u001b[1;33m\u001b[0m\u001b[0m\n\u001b[0;32m     24\u001b[0m \u001b[1;33m\u001b[0m\u001b[0m\n",
      "\u001b[1;32m~\\PycharmProjects\\coin-modify\\GeneSet.py\u001b[0m in \u001b[0;36mNgene\u001b[1;34m(self, dataFrame, n)\u001b[0m\n\u001b[0;32m     24\u001b[0m \u001b[1;33m\u001b[0m\u001b[0m\n\u001b[0;32m     25\u001b[0m     \u001b[1;32mdef\u001b[0m \u001b[0mNgene\u001b[0m\u001b[1;33m(\u001b[0m\u001b[0mself\u001b[0m\u001b[1;33m,\u001b[0m \u001b[0mdataFrame\u001b[0m\u001b[1;33m,\u001b[0m \u001b[0mn\u001b[0m\u001b[1;33m)\u001b[0m\u001b[1;33m:\u001b[0m\u001b[1;33m\u001b[0m\u001b[1;33m\u001b[0m\u001b[0m\n\u001b[1;32m---> 26\u001b[1;33m         \u001b[0mngene\u001b[0m \u001b[1;33m=\u001b[0m \u001b[0mset\u001b[0m\u001b[1;33m(\u001b[0m\u001b[0mdataFrame\u001b[0m\u001b[1;33m.\u001b[0m\u001b[0mmad\u001b[0m\u001b[1;33m(\u001b[0m\u001b[1;33m)\u001b[0m\u001b[1;33m.\u001b[0m\u001b[0msort_values\u001b[0m\u001b[1;33m(\u001b[0m\u001b[0mascending\u001b[0m\u001b[1;33m=\u001b[0m\u001b[1;32mFalse\u001b[0m\u001b[1;33m)\u001b[0m\u001b[1;33m[\u001b[0m\u001b[1;33m:\u001b[0m\u001b[0mn\u001b[0m\u001b[1;33m]\u001b[0m\u001b[1;33m.\u001b[0m\u001b[0mindex\u001b[0m\u001b[1;33m)\u001b[0m\u001b[1;33m\u001b[0m\u001b[1;33m\u001b[0m\u001b[0m\n\u001b[0m\u001b[0;32m     27\u001b[0m         \u001b[1;32mreturn\u001b[0m \u001b[0mngene\u001b[0m\u001b[1;33m\u001b[0m\u001b[1;33m\u001b[0m\u001b[0m\n\u001b[0;32m     28\u001b[0m \u001b[1;33m\u001b[0m\u001b[0m\n",
      "\u001b[1;32m~\\Anaconda3\\envs\\mlproject\\lib\\site-packages\\pandas\\core\\generic.py\u001b[0m in \u001b[0;36mmad\u001b[1;34m(self, axis, skipna, level)\u001b[0m\n\u001b[0;32m  10157\u001b[0m             \u001b[0mdata\u001b[0m \u001b[1;33m=\u001b[0m \u001b[0mself\u001b[0m\u001b[1;33m.\u001b[0m\u001b[0m_get_numeric_data\u001b[0m\u001b[1;33m(\u001b[0m\u001b[1;33m)\u001b[0m\u001b[1;33m\u001b[0m\u001b[1;33m\u001b[0m\u001b[0m\n\u001b[0;32m  10158\u001b[0m             \u001b[1;32mif\u001b[0m \u001b[0maxis\u001b[0m \u001b[1;33m==\u001b[0m \u001b[1;36m0\u001b[0m\u001b[1;33m:\u001b[0m\u001b[1;33m\u001b[0m\u001b[1;33m\u001b[0m\u001b[0m\n\u001b[1;32m> 10159\u001b[1;33m                 \u001b[0mdemeaned\u001b[0m \u001b[1;33m=\u001b[0m \u001b[0mdata\u001b[0m \u001b[1;33m-\u001b[0m \u001b[0mdata\u001b[0m\u001b[1;33m.\u001b[0m\u001b[0mmean\u001b[0m\u001b[1;33m(\u001b[0m\u001b[0maxis\u001b[0m\u001b[1;33m=\u001b[0m\u001b[1;36m0\u001b[0m\u001b[1;33m)\u001b[0m\u001b[1;33m\u001b[0m\u001b[1;33m\u001b[0m\u001b[0m\n\u001b[0m\u001b[0;32m  10160\u001b[0m             \u001b[1;32melse\u001b[0m\u001b[1;33m:\u001b[0m\u001b[1;33m\u001b[0m\u001b[1;33m\u001b[0m\u001b[0m\n\u001b[0;32m  10161\u001b[0m                 \u001b[0mdemeaned\u001b[0m \u001b[1;33m=\u001b[0m \u001b[0mdata\u001b[0m\u001b[1;33m.\u001b[0m\u001b[0msub\u001b[0m\u001b[1;33m(\u001b[0m\u001b[0mdata\u001b[0m\u001b[1;33m.\u001b[0m\u001b[0mmean\u001b[0m\u001b[1;33m(\u001b[0m\u001b[0maxis\u001b[0m\u001b[1;33m=\u001b[0m\u001b[1;36m1\u001b[0m\u001b[1;33m)\u001b[0m\u001b[1;33m,\u001b[0m \u001b[0maxis\u001b[0m\u001b[1;33m=\u001b[0m\u001b[1;36m0\u001b[0m\u001b[1;33m)\u001b[0m\u001b[1;33m\u001b[0m\u001b[1;33m\u001b[0m\u001b[0m\n",
      "\u001b[1;32m~\\Anaconda3\\envs\\mlproject\\lib\\site-packages\\pandas\\core\\ops\\__init__.py\u001b[0m in \u001b[0;36mf\u001b[1;34m(self, other, axis, level, fill_value)\u001b[0m\n\u001b[0;32m    773\u001b[0m             \u001b[0mpass_op\u001b[0m \u001b[1;33m=\u001b[0m \u001b[0mop\u001b[0m \u001b[1;32mif\u001b[0m \u001b[0maxis\u001b[0m \u001b[1;32min\u001b[0m \u001b[1;33m[\u001b[0m\u001b[1;36m0\u001b[0m\u001b[1;33m,\u001b[0m \u001b[1;34m\"columns\"\u001b[0m\u001b[1;33m,\u001b[0m \u001b[1;32mNone\u001b[0m\u001b[1;33m]\u001b[0m \u001b[1;32melse\u001b[0m \u001b[0mna_op\u001b[0m\u001b[1;33m\u001b[0m\u001b[1;33m\u001b[0m\u001b[0m\n\u001b[0;32m    774\u001b[0m             \u001b[0mpass_op\u001b[0m \u001b[1;33m=\u001b[0m \u001b[0mpass_op\u001b[0m \u001b[1;32mif\u001b[0m \u001b[1;32mnot\u001b[0m \u001b[0mis_logical\u001b[0m \u001b[1;32melse\u001b[0m \u001b[0mop\u001b[0m\u001b[1;33m\u001b[0m\u001b[1;33m\u001b[0m\u001b[0m\n\u001b[1;32m--> 775\u001b[1;33m             return _combine_series_frame(\n\u001b[0m\u001b[0;32m    776\u001b[0m                 \u001b[0mself\u001b[0m\u001b[1;33m,\u001b[0m \u001b[0mother\u001b[0m\u001b[1;33m,\u001b[0m \u001b[0mpass_op\u001b[0m\u001b[1;33m,\u001b[0m \u001b[0mfill_value\u001b[0m\u001b[1;33m=\u001b[0m\u001b[0mfill_value\u001b[0m\u001b[1;33m,\u001b[0m \u001b[0maxis\u001b[0m\u001b[1;33m=\u001b[0m\u001b[0maxis\u001b[0m\u001b[1;33m,\u001b[0m \u001b[0mlevel\u001b[0m\u001b[1;33m=\u001b[0m\u001b[0mlevel\u001b[0m\u001b[1;33m\u001b[0m\u001b[1;33m\u001b[0m\u001b[0m\n\u001b[0;32m    777\u001b[0m             )\n",
      "\u001b[1;32m~\\Anaconda3\\envs\\mlproject\\lib\\site-packages\\pandas\\core\\ops\\__init__.py\u001b[0m in \u001b[0;36m_combine_series_frame\u001b[1;34m(self, other, func, fill_value, axis, level)\u001b[0m\n\u001b[0;32m    618\u001b[0m         \u001b[0mnew_data\u001b[0m \u001b[1;33m=\u001b[0m \u001b[0mleft\u001b[0m\u001b[1;33m.\u001b[0m\u001b[0m_combine_match_index\u001b[0m\u001b[1;33m(\u001b[0m\u001b[0mright\u001b[0m\u001b[1;33m,\u001b[0m \u001b[0mfunc\u001b[0m\u001b[1;33m)\u001b[0m\u001b[1;33m\u001b[0m\u001b[1;33m\u001b[0m\u001b[0m\n\u001b[0;32m    619\u001b[0m     \u001b[1;32melse\u001b[0m\u001b[1;33m:\u001b[0m\u001b[1;33m\u001b[0m\u001b[1;33m\u001b[0m\u001b[0m\n\u001b[1;32m--> 620\u001b[1;33m         \u001b[0mnew_data\u001b[0m \u001b[1;33m=\u001b[0m \u001b[0mdispatch_to_series\u001b[0m\u001b[1;33m(\u001b[0m\u001b[0mleft\u001b[0m\u001b[1;33m,\u001b[0m \u001b[0mright\u001b[0m\u001b[1;33m,\u001b[0m \u001b[0mfunc\u001b[0m\u001b[1;33m,\u001b[0m \u001b[0maxis\u001b[0m\u001b[1;33m=\u001b[0m\u001b[1;34m\"columns\"\u001b[0m\u001b[1;33m)\u001b[0m\u001b[1;33m\u001b[0m\u001b[1;33m\u001b[0m\u001b[0m\n\u001b[0m\u001b[0;32m    621\u001b[0m \u001b[1;33m\u001b[0m\u001b[0m\n\u001b[0;32m    622\u001b[0m     \u001b[1;32mreturn\u001b[0m \u001b[0mleft\u001b[0m\u001b[1;33m.\u001b[0m\u001b[0m_construct_result\u001b[0m\u001b[1;33m(\u001b[0m\u001b[0mnew_data\u001b[0m\u001b[1;33m)\u001b[0m\u001b[1;33m\u001b[0m\u001b[1;33m\u001b[0m\u001b[0m\n",
      "\u001b[1;32m~\\Anaconda3\\envs\\mlproject\\lib\\site-packages\\pandas\\core\\ops\\__init__.py\u001b[0m in \u001b[0;36mdispatch_to_series\u001b[1;34m(left, right, func, str_rep, axis)\u001b[0m\n\u001b[0;32m    417\u001b[0m         \u001b[1;32mraise\u001b[0m \u001b[0mNotImplementedError\u001b[0m\u001b[1;33m(\u001b[0m\u001b[0mright\u001b[0m\u001b[1;33m)\u001b[0m\u001b[1;33m\u001b[0m\u001b[1;33m\u001b[0m\u001b[0m\n\u001b[0;32m    418\u001b[0m \u001b[1;33m\u001b[0m\u001b[0m\n\u001b[1;32m--> 419\u001b[1;33m     \u001b[0mnew_data\u001b[0m \u001b[1;33m=\u001b[0m \u001b[0mexpressions\u001b[0m\u001b[1;33m.\u001b[0m\u001b[0mevaluate\u001b[0m\u001b[1;33m(\u001b[0m\u001b[0mcolumn_op\u001b[0m\u001b[1;33m,\u001b[0m \u001b[0mstr_rep\u001b[0m\u001b[1;33m,\u001b[0m \u001b[0mleft\u001b[0m\u001b[1;33m,\u001b[0m \u001b[0mright\u001b[0m\u001b[1;33m)\u001b[0m\u001b[1;33m\u001b[0m\u001b[1;33m\u001b[0m\u001b[0m\n\u001b[0m\u001b[0;32m    420\u001b[0m     \u001b[1;32mreturn\u001b[0m \u001b[0mnew_data\u001b[0m\u001b[1;33m\u001b[0m\u001b[1;33m\u001b[0m\u001b[0m\n\u001b[0;32m    421\u001b[0m \u001b[1;33m\u001b[0m\u001b[0m\n",
      "\u001b[1;32m~\\Anaconda3\\envs\\mlproject\\lib\\site-packages\\pandas\\core\\computation\\expressions.py\u001b[0m in \u001b[0;36mevaluate\u001b[1;34m(op, op_str, a, b, use_numexpr)\u001b[0m\n\u001b[0;32m    206\u001b[0m     \u001b[0muse_numexpr\u001b[0m \u001b[1;33m=\u001b[0m \u001b[0muse_numexpr\u001b[0m \u001b[1;32mand\u001b[0m \u001b[0m_bool_arith_check\u001b[0m\u001b[1;33m(\u001b[0m\u001b[0mop_str\u001b[0m\u001b[1;33m,\u001b[0m \u001b[0ma\u001b[0m\u001b[1;33m,\u001b[0m \u001b[0mb\u001b[0m\u001b[1;33m)\u001b[0m\u001b[1;33m\u001b[0m\u001b[1;33m\u001b[0m\u001b[0m\n\u001b[0;32m    207\u001b[0m     \u001b[1;32mif\u001b[0m \u001b[0muse_numexpr\u001b[0m\u001b[1;33m:\u001b[0m\u001b[1;33m\u001b[0m\u001b[1;33m\u001b[0m\u001b[0m\n\u001b[1;32m--> 208\u001b[1;33m         \u001b[1;32mreturn\u001b[0m \u001b[0m_evaluate\u001b[0m\u001b[1;33m(\u001b[0m\u001b[0mop\u001b[0m\u001b[1;33m,\u001b[0m \u001b[0mop_str\u001b[0m\u001b[1;33m,\u001b[0m \u001b[0ma\u001b[0m\u001b[1;33m,\u001b[0m \u001b[0mb\u001b[0m\u001b[1;33m)\u001b[0m\u001b[1;33m\u001b[0m\u001b[1;33m\u001b[0m\u001b[0m\n\u001b[0m\u001b[0;32m    209\u001b[0m     \u001b[1;32mreturn\u001b[0m \u001b[0m_evaluate_standard\u001b[0m\u001b[1;33m(\u001b[0m\u001b[0mop\u001b[0m\u001b[1;33m,\u001b[0m \u001b[0mop_str\u001b[0m\u001b[1;33m,\u001b[0m \u001b[0ma\u001b[0m\u001b[1;33m,\u001b[0m \u001b[0mb\u001b[0m\u001b[1;33m)\u001b[0m\u001b[1;33m\u001b[0m\u001b[1;33m\u001b[0m\u001b[0m\n\u001b[0;32m    210\u001b[0m \u001b[1;33m\u001b[0m\u001b[0m\n",
      "\u001b[1;32m~\\Anaconda3\\envs\\mlproject\\lib\\site-packages\\pandas\\core\\computation\\expressions.py\u001b[0m in \u001b[0;36m_evaluate_standard\u001b[1;34m(op, op_str, a, b)\u001b[0m\n\u001b[0;32m     68\u001b[0m         \u001b[0m_store_test_result\u001b[0m\u001b[1;33m(\u001b[0m\u001b[1;32mFalse\u001b[0m\u001b[1;33m)\u001b[0m\u001b[1;33m\u001b[0m\u001b[1;33m\u001b[0m\u001b[0m\n\u001b[0;32m     69\u001b[0m     \u001b[1;32mwith\u001b[0m \u001b[0mnp\u001b[0m\u001b[1;33m.\u001b[0m\u001b[0merrstate\u001b[0m\u001b[1;33m(\u001b[0m\u001b[0mall\u001b[0m\u001b[1;33m=\u001b[0m\u001b[1;34m\"ignore\"\u001b[0m\u001b[1;33m)\u001b[0m\u001b[1;33m:\u001b[0m\u001b[1;33m\u001b[0m\u001b[1;33m\u001b[0m\u001b[0m\n\u001b[1;32m---> 70\u001b[1;33m         \u001b[1;32mreturn\u001b[0m \u001b[0mop\u001b[0m\u001b[1;33m(\u001b[0m\u001b[0ma\u001b[0m\u001b[1;33m,\u001b[0m \u001b[0mb\u001b[0m\u001b[1;33m)\u001b[0m\u001b[1;33m\u001b[0m\u001b[1;33m\u001b[0m\u001b[0m\n\u001b[0m\u001b[0;32m     71\u001b[0m \u001b[1;33m\u001b[0m\u001b[0m\n\u001b[0;32m     72\u001b[0m \u001b[1;33m\u001b[0m\u001b[0m\n",
      "\u001b[1;32m~\\Anaconda3\\envs\\mlproject\\lib\\site-packages\\pandas\\core\\ops\\__init__.py\u001b[0m in \u001b[0;36mcolumn_op\u001b[1;34m(a, b)\u001b[0m\n\u001b[0;32m    405\u001b[0m \u001b[1;33m\u001b[0m\u001b[0m\n\u001b[0;32m    406\u001b[0m             \u001b[1;32mdef\u001b[0m \u001b[0mcolumn_op\u001b[0m\u001b[1;33m(\u001b[0m\u001b[0ma\u001b[0m\u001b[1;33m,\u001b[0m \u001b[0mb\u001b[0m\u001b[1;33m)\u001b[0m\u001b[1;33m:\u001b[0m\u001b[1;33m\u001b[0m\u001b[1;33m\u001b[0m\u001b[0m\n\u001b[1;32m--> 407\u001b[1;33m                 \u001b[1;32mreturn\u001b[0m \u001b[1;33m{\u001b[0m\u001b[0mi\u001b[0m\u001b[1;33m:\u001b[0m \u001b[0mfunc\u001b[0m\u001b[1;33m(\u001b[0m\u001b[0ma\u001b[0m\u001b[1;33m.\u001b[0m\u001b[0miloc\u001b[0m\u001b[1;33m[\u001b[0m\u001b[1;33m:\u001b[0m\u001b[1;33m,\u001b[0m \u001b[0mi\u001b[0m\u001b[1;33m]\u001b[0m\u001b[1;33m,\u001b[0m \u001b[0mb\u001b[0m\u001b[1;33m.\u001b[0m\u001b[0miloc\u001b[0m\u001b[1;33m[\u001b[0m\u001b[0mi\u001b[0m\u001b[1;33m]\u001b[0m\u001b[1;33m)\u001b[0m \u001b[1;32mfor\u001b[0m \u001b[0mi\u001b[0m \u001b[1;32min\u001b[0m \u001b[0mrange\u001b[0m\u001b[1;33m(\u001b[0m\u001b[0mlen\u001b[0m\u001b[1;33m(\u001b[0m\u001b[0ma\u001b[0m\u001b[1;33m.\u001b[0m\u001b[0mcolumns\u001b[0m\u001b[1;33m)\u001b[0m\u001b[1;33m)\u001b[0m\u001b[1;33m}\u001b[0m\u001b[1;33m\u001b[0m\u001b[1;33m\u001b[0m\u001b[0m\n\u001b[0m\u001b[0;32m    408\u001b[0m \u001b[1;33m\u001b[0m\u001b[0m\n\u001b[0;32m    409\u001b[0m     \u001b[1;32melif\u001b[0m \u001b[0misinstance\u001b[0m\u001b[1;33m(\u001b[0m\u001b[0mright\u001b[0m\u001b[1;33m,\u001b[0m \u001b[0mABCSeries\u001b[0m\u001b[1;33m)\u001b[0m\u001b[1;33m:\u001b[0m\u001b[1;33m\u001b[0m\u001b[1;33m\u001b[0m\u001b[0m\n",
      "\u001b[1;32m~\\Anaconda3\\envs\\mlproject\\lib\\site-packages\\pandas\\core\\ops\\__init__.py\u001b[0m in \u001b[0;36m<dictcomp>\u001b[1;34m(.0)\u001b[0m\n\u001b[0;32m    405\u001b[0m \u001b[1;33m\u001b[0m\u001b[0m\n\u001b[0;32m    406\u001b[0m             \u001b[1;32mdef\u001b[0m \u001b[0mcolumn_op\u001b[0m\u001b[1;33m(\u001b[0m\u001b[0ma\u001b[0m\u001b[1;33m,\u001b[0m \u001b[0mb\u001b[0m\u001b[1;33m)\u001b[0m\u001b[1;33m:\u001b[0m\u001b[1;33m\u001b[0m\u001b[1;33m\u001b[0m\u001b[0m\n\u001b[1;32m--> 407\u001b[1;33m                 \u001b[1;32mreturn\u001b[0m \u001b[1;33m{\u001b[0m\u001b[0mi\u001b[0m\u001b[1;33m:\u001b[0m \u001b[0mfunc\u001b[0m\u001b[1;33m(\u001b[0m\u001b[0ma\u001b[0m\u001b[1;33m.\u001b[0m\u001b[0miloc\u001b[0m\u001b[1;33m[\u001b[0m\u001b[1;33m:\u001b[0m\u001b[1;33m,\u001b[0m \u001b[0mi\u001b[0m\u001b[1;33m]\u001b[0m\u001b[1;33m,\u001b[0m \u001b[0mb\u001b[0m\u001b[1;33m.\u001b[0m\u001b[0miloc\u001b[0m\u001b[1;33m[\u001b[0m\u001b[0mi\u001b[0m\u001b[1;33m]\u001b[0m\u001b[1;33m)\u001b[0m \u001b[1;32mfor\u001b[0m \u001b[0mi\u001b[0m \u001b[1;32min\u001b[0m \u001b[0mrange\u001b[0m\u001b[1;33m(\u001b[0m\u001b[0mlen\u001b[0m\u001b[1;33m(\u001b[0m\u001b[0ma\u001b[0m\u001b[1;33m.\u001b[0m\u001b[0mcolumns\u001b[0m\u001b[1;33m)\u001b[0m\u001b[1;33m)\u001b[0m\u001b[1;33m}\u001b[0m\u001b[1;33m\u001b[0m\u001b[1;33m\u001b[0m\u001b[0m\n\u001b[0m\u001b[0;32m    408\u001b[0m \u001b[1;33m\u001b[0m\u001b[0m\n\u001b[0;32m    409\u001b[0m     \u001b[1;32melif\u001b[0m \u001b[0misinstance\u001b[0m\u001b[1;33m(\u001b[0m\u001b[0mright\u001b[0m\u001b[1;33m,\u001b[0m \u001b[0mABCSeries\u001b[0m\u001b[1;33m)\u001b[0m\u001b[1;33m:\u001b[0m\u001b[1;33m\u001b[0m\u001b[1;33m\u001b[0m\u001b[0m\n",
      "\u001b[1;32m~\\Anaconda3\\envs\\mlproject\\lib\\site-packages\\pandas\\core\\ops\\common.py\u001b[0m in \u001b[0;36mnew_method\u001b[1;34m(self, other)\u001b[0m\n\u001b[0;32m     62\u001b[0m         \u001b[0mother\u001b[0m \u001b[1;33m=\u001b[0m \u001b[0mitem_from_zerodim\u001b[0m\u001b[1;33m(\u001b[0m\u001b[0mother\u001b[0m\u001b[1;33m)\u001b[0m\u001b[1;33m\u001b[0m\u001b[1;33m\u001b[0m\u001b[0m\n\u001b[0;32m     63\u001b[0m \u001b[1;33m\u001b[0m\u001b[0m\n\u001b[1;32m---> 64\u001b[1;33m         \u001b[1;32mreturn\u001b[0m \u001b[0mmethod\u001b[0m\u001b[1;33m(\u001b[0m\u001b[0mself\u001b[0m\u001b[1;33m,\u001b[0m \u001b[0mother\u001b[0m\u001b[1;33m)\u001b[0m\u001b[1;33m\u001b[0m\u001b[1;33m\u001b[0m\u001b[0m\n\u001b[0m\u001b[0;32m     65\u001b[0m \u001b[1;33m\u001b[0m\u001b[0m\n\u001b[0;32m     66\u001b[0m     \u001b[1;32mreturn\u001b[0m \u001b[0mnew_method\u001b[0m\u001b[1;33m\u001b[0m\u001b[1;33m\u001b[0m\u001b[0m\n",
      "\u001b[1;32m~\\Anaconda3\\envs\\mlproject\\lib\\site-packages\\pandas\\core\\ops\\__init__.py\u001b[0m in \u001b[0;36mwrapper\u001b[1;34m(left, right)\u001b[0m\n\u001b[0;32m    499\u001b[0m         \u001b[0mres_name\u001b[0m \u001b[1;33m=\u001b[0m \u001b[0mget_op_result_name\u001b[0m\u001b[1;33m(\u001b[0m\u001b[0mleft\u001b[0m\u001b[1;33m,\u001b[0m \u001b[0mright\u001b[0m\u001b[1;33m)\u001b[0m\u001b[1;33m\u001b[0m\u001b[1;33m\u001b[0m\u001b[0m\n\u001b[0;32m    500\u001b[0m \u001b[1;33m\u001b[0m\u001b[0m\n\u001b[1;32m--> 501\u001b[1;33m         \u001b[0mlvalues\u001b[0m \u001b[1;33m=\u001b[0m \u001b[0mextract_array\u001b[0m\u001b[1;33m(\u001b[0m\u001b[0mleft\u001b[0m\u001b[1;33m,\u001b[0m \u001b[0mextract_numpy\u001b[0m\u001b[1;33m=\u001b[0m\u001b[1;32mTrue\u001b[0m\u001b[1;33m)\u001b[0m\u001b[1;33m\u001b[0m\u001b[1;33m\u001b[0m\u001b[0m\n\u001b[0m\u001b[0;32m    502\u001b[0m         \u001b[0mrvalues\u001b[0m \u001b[1;33m=\u001b[0m \u001b[0mextract_array\u001b[0m\u001b[1;33m(\u001b[0m\u001b[0mright\u001b[0m\u001b[1;33m,\u001b[0m \u001b[0mextract_numpy\u001b[0m\u001b[1;33m=\u001b[0m\u001b[1;32mTrue\u001b[0m\u001b[1;33m)\u001b[0m\u001b[1;33m\u001b[0m\u001b[1;33m\u001b[0m\u001b[0m\n\u001b[0;32m    503\u001b[0m         \u001b[0mresult\u001b[0m \u001b[1;33m=\u001b[0m \u001b[0marithmetic_op\u001b[0m\u001b[1;33m(\u001b[0m\u001b[0mlvalues\u001b[0m\u001b[1;33m,\u001b[0m \u001b[0mrvalues\u001b[0m\u001b[1;33m,\u001b[0m \u001b[0mop\u001b[0m\u001b[1;33m,\u001b[0m \u001b[0mstr_rep\u001b[0m\u001b[1;33m)\u001b[0m\u001b[1;33m\u001b[0m\u001b[1;33m\u001b[0m\u001b[0m\n",
      "\u001b[1;32m~\\Anaconda3\\envs\\mlproject\\lib\\site-packages\\pandas\\core\\construction.py\u001b[0m in \u001b[0;36mextract_array\u001b[1;34m(obj, extract_numpy)\u001b[0m\n\u001b[0;32m    381\u001b[0m \u001b[1;33m\u001b[0m\u001b[0m\n\u001b[0;32m    382\u001b[0m     \u001b[1;32mif\u001b[0m \u001b[0mextract_numpy\u001b[0m \u001b[1;32mand\u001b[0m \u001b[0misinstance\u001b[0m\u001b[1;33m(\u001b[0m\u001b[0mobj\u001b[0m\u001b[1;33m,\u001b[0m \u001b[0mABCPandasArray\u001b[0m\u001b[1;33m)\u001b[0m\u001b[1;33m:\u001b[0m\u001b[1;33m\u001b[0m\u001b[1;33m\u001b[0m\u001b[0m\n\u001b[1;32m--> 383\u001b[1;33m         \u001b[0mobj\u001b[0m \u001b[1;33m=\u001b[0m \u001b[0mobj\u001b[0m\u001b[1;33m.\u001b[0m\u001b[0mto_numpy\u001b[0m\u001b[1;33m(\u001b[0m\u001b[1;33m)\u001b[0m\u001b[1;33m\u001b[0m\u001b[1;33m\u001b[0m\u001b[0m\n\u001b[0m\u001b[0;32m    384\u001b[0m \u001b[1;33m\u001b[0m\u001b[0m\n\u001b[0;32m    385\u001b[0m     \u001b[1;32mreturn\u001b[0m \u001b[0mobj\u001b[0m\u001b[1;33m\u001b[0m\u001b[1;33m\u001b[0m\u001b[0m\n",
      "\u001b[1;32m~\\Anaconda3\\envs\\mlproject\\lib\\site-packages\\pandas\\core\\arrays\\numpy_.py\u001b[0m in \u001b[0;36mto_numpy\u001b[1;34m(self, dtype, copy, na_value)\u001b[0m\n\u001b[0;32m    421\u001b[0m             \u001b[0mresult\u001b[0m \u001b[1;33m=\u001b[0m \u001b[0mresult\u001b[0m\u001b[1;33m.\u001b[0m\u001b[0mcopy\u001b[0m\u001b[1;33m(\u001b[0m\u001b[1;33m)\u001b[0m\u001b[1;33m\u001b[0m\u001b[1;33m\u001b[0m\u001b[0m\n\u001b[0;32m    422\u001b[0m \u001b[1;33m\u001b[0m\u001b[0m\n\u001b[1;32m--> 423\u001b[1;33m         \u001b[1;32mif\u001b[0m \u001b[0mna_value\u001b[0m \u001b[1;32mis\u001b[0m \u001b[1;32mnot\u001b[0m \u001b[0mlib\u001b[0m\u001b[1;33m.\u001b[0m\u001b[0mno_default\u001b[0m\u001b[1;33m:\u001b[0m\u001b[1;33m\u001b[0m\u001b[1;33m\u001b[0m\u001b[0m\n\u001b[0m\u001b[0;32m    424\u001b[0m             \u001b[0mresult\u001b[0m\u001b[1;33m[\u001b[0m\u001b[0mself\u001b[0m\u001b[1;33m.\u001b[0m\u001b[0misna\u001b[0m\u001b[1;33m(\u001b[0m\u001b[1;33m)\u001b[0m\u001b[1;33m]\u001b[0m \u001b[1;33m=\u001b[0m \u001b[0mna_value\u001b[0m\u001b[1;33m\u001b[0m\u001b[1;33m\u001b[0m\u001b[0m\n\u001b[0;32m    425\u001b[0m \u001b[1;33m\u001b[0m\u001b[0m\n",
      "\u001b[1;31mKeyboardInterrupt\u001b[0m: "
     ]
    }
   ],
   "source": [
    "g=GeneSet([data1,data3,data2,data4,data5],0,60,pd)"
   ]
  },
  {
   "cell_type": "code",
   "execution_count": 5,
   "metadata": {},
   "outputs": [
    {
     "data": {
      "text/plain": [
       "218"
      ]
     },
     "execution_count": 5,
     "metadata": {},
     "output_type": "execute_result"
    }
   ],
   "source": [
    "len(g.finalGeneSet)"
   ]
  },
  {
   "cell_type": "code",
   "execution_count": null,
   "metadata": {},
   "outputs": [],
   "source": [
    "a,w,b,c=network.network(g.dataSets,10,[4,5,6,7,8],g.finalGeneSet)"
   ]
  },
  {
   "cell_type": "code",
   "execution_count": null,
   "metadata": {},
   "outputs": [],
   "source": [
    "network.totxt(a,w,\"wctweighted.txt\")"
   ]
  },
  {
   "cell_type": "code",
   "execution_count": null,
   "metadata": {},
   "outputs": [],
   "source": [
    "network.totxt(a,b,\"corrweighted.txt\")"
   ]
  },
  {
   "cell_type": "code",
   "execution_count": null,
   "metadata": {},
   "outputs": [],
   "source": [
    "g1=network.community(\"wctweighted.txt\")\n",
    "g2=network.community(\"corrweighted.txt\")"
   ]
  },
  {
   "cell_type": "code",
   "execution_count": null,
   "metadata": {},
   "outputs": [],
   "source": [
    "k1,k2,k3=dbscoreing.dbscoreing(g2,c)\n",
    "k4,k5,k6=dbscoreing.dbscoreing(g1,c)"
   ]
  },
  {
   "cell_type": "code",
   "execution_count": null,
   "metadata": {},
   "outputs": [],
   "source": [
    "k1"
   ]
  },
  {
   "cell_type": "code",
   "execution_count": null,
   "metadata": {},
   "outputs": [],
   "source": [
    "k4"
   ]
  },
  {
   "cell_type": "code",
   "execution_count": 5,
   "metadata": {},
   "outputs": [
    {
     "name": "stdout",
     "output_type": "stream",
     "text": [
      "1.0121411257328548    3.0070961589291025\n",
      "1.5338999012665226    2.223958173226346\n",
      "2.518289027611557    4.260756893328513\n",
      "1.2484175272412574    2.9492785990229167\n",
      "1.0121411257328548    3.0070961589291025\n",
      "1.5338999012665226    2.223958173226346\n",
      "1.2484175272412574    2.9492785990229167\n",
      "0.9242404167331284    2.6030467074155164\n",
      "2.9011990104210916    3.598947488026741\n",
      "1.2484175272412574    2.9492785990229167\n",
      "1.0121411257328548    3.0070961589291025\n",
      "3.5989474880267394    5.529294762036142\n",
      "2.922156752571601    2.3064846824051948\n",
      "3.598947488026741    3.262423846573342\n",
      "2.922156752571601    2.3064846824051948\n",
      "2.9011990104210916    3.598947488026741\n",
      "1.0121411257328548    3.0070961589291025\n",
      "1.0121411257328548    3.0070961589291025\n",
      "1.5338999012665226    2.223958173226346\n",
      "1.2484175272412574    2.9492785990229167\n"
     ]
    }
   ],
   "source": [
    "g=GeneSet([data1,data3,data2,data4,data5],0,60,pd)\n",
    "for i in range(20):   \n",
    "    a,w,b,c=network.network(g.dataSets,10,[2,3,4,5,6,7,8],g.finalGeneSet)\n",
    "    network.totxt(a,w,\"wctweighted.txt\")\n",
    "    network.totxt(a,b,\"corrweighted.txt\")\n",
    "    g1=network.community(\"wctweighted.txt\")\n",
    "    g2=network.community(\"corrweighted.txt\")\n",
    "    k1,k2,k3=network.dbscoreing(g2,c)\n",
    "    k4,k5,k6=network.dbscoreing(g1,c)\n",
    "    print(k1,\"  \",k4)"
   ]
  },
  {
   "cell_type": "code",
   "execution_count": 5,
   "metadata": {},
   "outputs": [
    {
     "name": "stdout",
     "output_type": "stream",
     "text": [
      "Max modularity found (Q): 0.09677619278550116 and number of communities: 6\n",
      "Graph communities: [{0, 5, 6, 10, 13, 17, 18, 20, 23, 24, 25, 26, 28, 29, 30, 33, 37, 38, 41, 44, 45, 46, 47, 48, 51, 52, 53, 54}, {4}, {1, 2, 3, 7, 8, 9, 11, 12, 14, 16, 21, 22, 27, 31, 32, 34, 35, 36, 39, 40, 43, 49, 50, 55}, {15}, {42}, {19}]\n",
      "Max modularity found (Q): 0.0026161066201748026 and number of communities: 40\n",
      "Graph communities: [{0}, {4}, {5}, {33, 6, 49, 51, 21, 27, 29}, {28, 7}, {8}, {32, 1, 39, 10, 43, 13, 31}, {12}, {14}, {15}, {16, 35}, {17}, {20}, {23}, {24}, {25}, {26}, {34}, {37}, {38}, {40}, {41, 53, 46}, {42}, {44}, {45}, {47}, {48}, {50}, {52}, {54}, {55}, {18}, {19}, {22}, {30}, {36}, {2}, {9}, {3}, {11}]\n",
      "3.289543386743314    1.7827711584049242\n",
      "Max modularity found (Q): 0.03493449985158635 and number of communities: 3\n",
      "Graph communities: [{0, 2, 3, 4, 5, 7, 8, 9, 10, 11, 12, 13, 14, 15, 23, 24, 25, 26, 27, 28, 29, 32, 33, 34, 35, 37, 38, 39, 41, 42, 44, 45, 46, 47, 48, 49, 50, 52, 53}, {1, 36, 6, 40, 43, 16, 17, 18, 19, 20, 21, 22, 51, 30}, {31}]\n",
      "Max modularity found (Q): 0.0 and number of communities: 1\n",
      "Graph communities: [{0, 1, 2, 3, 4, 5, 6, 7, 8, 9, 10, 11, 12, 13, 14, 15, 16, 17, 18, 19, 20, 21, 22, 23, 24, 25, 26, 27, 28, 29, 30, 31, 32, 33, 34, 35, 36, 37, 38, 39, 40, 41, 42, 43, 44, 45, 46, 47, 48, 49, 50, 51, 52, 53}]\n",
      "skipped    1.8661358787339577\n",
      "Max modularity found (Q): 0.12886317892651786 and number of communities: 4\n",
      "Graph communities: [{0, 4, 5, 7, 8, 12, 14, 18, 19, 22, 23, 25, 26, 27, 28, 30, 35, 39, 40, 41, 42, 45, 46, 47, 48, 49, 51, 52, 53, 54, 55}, {1, 2, 3, 6, 10, 11, 13, 15, 16, 17, 20, 24, 29, 31, 32, 33, 34, 36, 37, 38, 43, 44, 50, 56}, {9}, {21}]\n",
      "Max modularity found (Q): 0.009411165392230686 and number of communities: 25\n",
      "Graph communities: [{0, 1, 2, 4, 5, 6, 12, 14, 18, 19, 20, 21, 22, 23, 24, 29, 30, 32, 33, 34, 35, 38, 42, 43, 44, 45, 49, 50, 52}, {7}, {8, 47, 51, 54, 26}, {9}, {10}, {13}, {15}, {16}, {17}, {25}, {27}, {28}, {31}, {36}, {37}, {39}, {40}, {41}, {46}, {48}, {53}, {55}, {56}, {3}, {11}]\n",
      "5.017519402845994    2.2581392330906236\n",
      "Max modularity found (Q): 0.1330344099304065 and number of communities: 10\n",
      "Graph communities: [{0, 32, 1, 33, 36, 6, 42, 10, 45, 16, 49, 18, 19, 52, 21, 22, 20, 31}, {4, 40, 13, 46, 51, 53, 54, 24, 25, 27}, {5, 41, 47, 48, 29}, {2, 35, 34, 37, 7, 39, 8, 9, 11, 12, 43, 44, 15, 14, 50, 56, 28}, {23}, {26}, {38}, {55}, {17, 30}, {3}]\n",
      "Max modularity found (Q): 0.012280273006380822 and number of communities: 35\n",
      "Graph communities: [{0, 7, 43, 45, 49}, {40, 27, 4}, {5}, {33, 34, 1, 36, 6, 10, 42, 44, 18, 19, 20, 52, 50, 23, 56, 28}, {8}, {12}, {13}, {14}, {15}, {16}, {21}, {22}, {24}, {25}, {26}, {31}, {32}, {37}, {38}, {41}, {46}, {47}, {48}, {51, 54}, {53}, {55}, {17}, {30}, {35}, {39}, {2}, {9}, {3}, {11}, {29}]\n",
      "2.796953679600372    2.963648513992076\n",
      "Max modularity found (Q): 0.004816872098735594 and number of communities: 31\n",
      "Graph communities: [{0}, {26, 51, 4, 37}, {5}, {35, 6, 39, 16, 50, 29}, {33, 7, 40, 42, 13, 46, 23, 31}, {8}, {10}, {12}, {14}, {15}, {17}, {20}, {21}, {24, 43}, {25}, {34, 41, 47, 52, 27}, {45, 38}, {44}, {48}, {49}, {1}, {18}, {19}, {11, 22}, {28}, {30}, {32}, {36}, {2}, {9}, {3}]\n",
      "Max modularity found (Q): 0.0 and number of communities: 1\n",
      "Graph communities: [{0, 1, 2, 3, 4, 5, 6, 7, 8, 9, 10, 11, 12, 13, 14, 15, 16, 17, 18, 19, 20, 21, 22, 23, 24, 25, 26, 27, 28, 29, 30, 31, 32, 33, 34, 35, 36, 37, 38, 39, 40, 41, 42, 43, 44, 45, 46, 47, 48, 49, 50, 51, 52}]\n",
      "skipped    4.298822689482413\n",
      "Max modularity found (Q): 0.03370678919158176 and number of communities: 29\n",
      "Graph communities: [{0, 35, 3, 7, 42, 10, 46, 50, 56, 25, 28}, {4, 53, 39}, {5}, {1, 6, 41, 44, 19, 20, 51, 23, 31}, {8}, {12}, {13}, {15}, {16}, {17}, {22}, {24}, {26, 52, 30}, {27}, {9, 29, 33}, {36, 14}, {37}, {40}, {49, 34, 43}, {45}, {47}, {48}, {54}, {55}, {32, 18}, {21}, {38}, {2}, {11}]\n",
      "Max modularity found (Q): 0.07074090372745914 and number of communities: 13\n",
      "Graph communities: [{0, 1, 6, 10, 13, 15, 18, 19, 20, 21, 22, 23, 24, 29, 30, 31, 35, 38, 41, 43, 44, 48, 49, 51, 53, 54, 55}, {4, 39}, {5, 40, 46, 47, 56, 25, 27}, {33, 2, 3, 34, 7, 42, 11, 12, 45, 14, 28}, {8}, {16}, {17}, {26}, {36}, {37}, {9, 50}, {52}, {32}]\n",
      "2.7839669789371735    3.233409141806709\n",
      "Max modularity found (Q): 0.10924314861674764 and number of communities: 8\n",
      "Graph communities: [{0, 7, 41, 9, 44, 13, 45, 49, 52, 53, 24, 26, 27}, {4, 38}, {5, 46, 39}, {1, 34, 36, 6, 40, 10, 43, 47, 16, 18, 19, 20, 21, 50, 22, 29, 30, 31}, {32, 33, 35, 3, 37, 8, 42, 11, 12, 14, 15, 48, 17, 54, 28}, {25}, {51}, {2, 23}]\n",
      "Max modularity found (Q): 0.0377873716537885 and number of communities: 26\n",
      "Graph communities: [{0, 34, 6, 40, 10, 43, 13, 46, 47, 50, 22, 23, 24, 28}, {51, 4, 38}, {45, 5, 39}, {32, 33, 2, 3, 35, 37, 7, 41, 12, 44, 14}, {8}, {15}, {16}, {17}, {18}, {21}, {25, 49}, {26}, {27}, {30}, {36}, {42}, {52}, {53}, {20, 54}, {1}, {19}, {29}, {31}, {48}, {9}, {11}]\n",
      "2.9674747133686803    3.373558792311141\n",
      "Max modularity found (Q): 0.003848801150862585 and number of communities: 26\n",
      "Graph communities: [{0, 26, 36, 37, 7, 10, 44, 12, 45, 48, 51, 23, 25, 58, 28, 29}, {41, 4, 55}, {49, 42, 5}, {32, 1, 33, 6, 43, 46, 50, 53, 56, 30}, {8}, {16, 11, 38}, {14}, {15}, {17}, {20}, {21}, {24}, {27}, {35}, {39}, {47}, {52}, {54}, {57}, {18}, {19}, {9, 3, 13, 22}, {31}, {40}, {2}, {34}]\n",
      "Max modularity found (Q): 0.011039154574300708 and number of communities: 36\n",
      "Graph communities: [{0, 36, 7, 44, 45, 55}, {41, 4}, {49, 42, 5}, {32, 33, 35, 37, 6, 43, 46, 18, 50, 53, 21, 23, 27, 28}, {8}, {10}, {11}, {12}, {14}, {15}, {16}, {17}, {20}, {24}, {25}, {26}, {38}, {39}, {47}, {48}, {52}, {54}, {56}, {57, 19, 1}, {58}, {22}, {29}, {30}, {31}, {40}, {51}, {2}, {13}, {3}, {9}, {34}]\n",
      "3.162293788104363    3.1484419019734196\n",
      "Max modularity found (Q): 0.04472888822307591 and number of communities: 21\n",
      "Graph communities: [{0, 33, 7, 40, 10, 43, 12, 44, 48, 51, 23, 24, 25, 28}, {4, 37}, {45, 5, 38}, {1, 35, 6, 39, 15, 16, 17, 18, 50, 29, 30}, {8}, {11}, {13}, {14}, {20}, {21}, {32, 36, 41, 47, 52, 22, 27}, {26}, {34}, {42}, {46}, {49}, {19}, {31}, {3}, {9}, {2}]\n",
      "Max modularity found (Q): 0.0 and number of communities: 1\n",
      "Graph communities: [{0, 1, 2, 3, 4, 5, 6, 7, 8, 9, 10, 11, 12, 13, 14, 15, 16, 17, 18, 19, 20, 21, 22, 23, 24, 25, 26, 27, 28, 29, 30, 31, 32, 33, 34, 35, 36, 37, 38, 39, 40, 41, 42, 43, 44, 45, 46, 47, 48, 49, 50, 51, 52}]\n",
      "skipped    3.2140388439794934\n",
      "Max modularity found (Q): 0.018094573454997386 and number of communities: 30\n",
      "Graph communities: [{0, 1, 37, 38, 6, 40, 10, 16, 48, 18, 50, 51, 25}, {4}, {5}, {2, 3, 36, 7, 39, 41, 11, 12, 45, 17, 49, 29, 52, 53, 56, 24, 61, 57}, {8}, {9, 46}, {13}, {14}, {15}, {19}, {21}, {22}, {23}, {26, 60}, {35, 27}, {28}, {30}, {42}, {44}, {47}, {54}, {55}, {58}, {59}, {20}, {31}, {32}, {33}, {34}, {43}]\n",
      "Max modularity found (Q): 0.004152982731437988 and number of communities: 44\n",
      "Graph communities: [{0}, {4}, {5}, {32, 1, 6, 50, 24}, {2, 52, 7}, {8}, {9, 46}, {40, 10}, {35, 41, 12, 48, 29, 51, 22, 23, 56, 61}, {13, 14}, {15}, {16}, {18}, {19}, {21}, {26}, {27}, {28}, {30}, {37}, {38}, {42}, {44}, {47}, {49}, {53}, {54}, {55}, {57}, {58}, {59}, {60}, {20}, {25}, {31}, {33}, {34}, {43}, {45}, {17}, {39}, {3}, {11}, {36}]\n",
      "3.6438870378687707    3.481952720445684\n",
      "Max modularity found (Q): 0.11877937493565555 and number of communities: 10\n",
      "Graph communities: [{0, 4, 8, 12, 16, 23, 24, 25, 26, 27, 29, 30, 31, 32, 34, 39, 43, 44, 45, 48, 49, 50, 51, 54, 55, 56, 57, 58, 61, 62}, {59, 52, 5}, {1, 33, 36, 38, 6, 40, 42, 10, 13, 60, 15, 47, 18, 19, 20, 53, 28}, {2, 3, 37, 7, 11, 46, 17}, {9}, {14}, {21}, {35}, {41}, {22}]\n",
      "Max modularity found (Q): 0.0 and number of communities: 1\n",
      "Graph communities: [{0, 1, 2, 3, 4, 5, 6, 7, 8, 9, 10, 11, 12, 13, 14, 15, 16, 17, 18, 19, 20, 21, 22, 23, 24, 25, 26, 27, 28, 29, 30, 31, 32, 33, 34, 35, 36, 37, 38, 39, 40, 41, 42, 43, 44, 45, 46, 47, 48, 49, 50, 51, 52, 53, 54, 55, 56, 57, 58, 59, 60, 61, 62}]\n",
      "skipped    2.5249428712718935\n",
      "Max modularity found (Q): 0.08806412824251128 and number of communities: 12\n",
      "Graph communities: [{0, 4, 5, 6, 10, 12, 16, 18, 19, 21, 23, 24, 25, 26, 28, 30, 33, 41, 43, 44, 47, 50, 52, 53, 54, 57, 58, 59, 60}, {2, 3, 7, 8, 9, 11, 13, 14, 22, 27, 35, 36, 37, 38, 39, 42, 45, 49, 55, 61}, {15}, {20}, {40}, {56, 34, 51, 46}, {48}, {1}, {17}, {29}, {31}, {32}]\n"
     ]
    },
    {
     "name": "stdout",
     "output_type": "stream",
     "text": [
      "Max modularity found (Q): 0.031006941921348893 and number of communities: 36\n",
      "Graph communities: [{0}, {4}, {5}, {18, 50, 6}, {7}, {8}, {1, 33, 35, 37, 41, 10, 42, 12, 45, 49, 22, 55, 57, 30}, {11}, {13}, {14, 39}, {15}, {20}, {21}, {2, 3, 9, 46, 47, 51, 52, 23, 24, 56, 59}, {25}, {26}, {27}, {28}, {36}, {40}, {43}, {44}, {48}, {53}, {54}, {58}, {60}, {61}, {16}, {17}, {19}, {29}, {31}, {32}, {38}, {34}]\n",
      "3.5297166151532995    2.201640223575471\n",
      "Max modularity found (Q): 0.05952577238065195 and number of communities: 26\n",
      "Graph communities: [{0, 38, 7, 27, 10, 13, 45, 49, 53, 24, 26, 59}, {56, 42, 4}, {5}, {1, 34, 6, 44, 47, 16, 17, 19, 20, 22, 54, 29, 31}, {36, 37, 39, 8, 41, 14, 52, 23, 58, 28}, {12}, {15}, {21}, {25}, {40}, {43}, {46}, {48}, {50}, {51}, {55}, {57}, {18}, {30}, {32}, {33}, {2}, {9}, {3}, {11}, {35}]\n",
      "Max modularity found (Q): 0.03958846203066085 and number of communities: 19\n",
      "Graph communities: [{0, 1, 6, 10, 13, 17, 18, 19, 20, 22, 23, 28, 29, 32, 33, 34, 36, 37, 38, 41, 44, 46, 47, 50, 51, 52, 54}, {42, 27, 4}, {43, 59, 5}, {2, 35, 3, 7, 9, 11, 45, 48, 49, 53, 24, 26}, {8}, {12}, {14}, {15}, {16}, {21}, {25}, {39}, {40}, {55}, {56}, {57}, {58}, {30}, {31}]\n",
      "2.7151801521694616    2.9394795851387627\n",
      "Max modularity found (Q): 0.013555962954764609 and number of communities: 21\n",
      "Graph communities: [{0, 37, 7, 12, 48, 25, 30}, {34, 4, 45, 47}, {35, 5, 41, 42, 19}, {32, 36, 6, 46, 17, 18, 26, 27}, {8}, {33, 10, 11, 44, 13, 14, 20, 24, 28, 29, 31}, {15}, {16}, {21}, {22}, {23}, {38}, {39}, {40}, {43}, {49}, {50}, {1}, {3}, {9}, {2}]\n",
      "Max modularity found (Q): 0.0 and number of communities: 1\n",
      "Graph communities: [{0, 1, 2, 3, 4, 5, 6, 7, 8, 9, 10, 11, 12, 13, 14, 15, 16, 17, 18, 19, 20, 21, 22, 23, 24, 25, 26, 27, 28, 29, 30, 31, 32, 33, 34, 35, 36, 37, 38, 39, 40, 41, 42, 43, 44, 45, 46, 47, 48, 49, 50}]\n",
      "skipped    3.3881602907583757\n",
      "Max modularity found (Q): 0.10504856485314419 and number of communities: 19\n",
      "Graph communities: [{0, 4, 37, 41, 10, 43, 13, 48, 49, 53, 55, 56, 24, 26, 25}, {5}, {6, 44, 47, 17, 51, 19, 21, 54, 29, 31}, {2, 35, 36, 38, 7, 8, 9, 40, 11, 12, 45, 46, 15, 14, 52, 23, 58, 28}, {16}, {22}, {27}, {33}, {39}, {42}, {50}, {57}, {1}, {18}, {20}, {30}, {32}, {34}, {3}]\n",
      "Max modularity found (Q): 0.004275352275210472 and number of communities: 49\n",
      "Graph communities: [{0, 36}, {41, 4}, {5}, {6}, {7}, {8, 15}, {10}, {12}, {13}, {38, 14}, {16}, {19}, {21}, {22}, {44, 47, 23}, {43, 49, 24, 56, 27}, {25}, {26}, {28}, {29}, {31}, {33}, {39}, {42}, {45}, {46}, {48}, {50}, {51}, {53}, {54}, {55}, {57}, {58}, {1}, {17}, {18}, {20}, {30}, {32}, {34}, {35}, {37}, {40}, {52}, {2}, {9}, {3}, {11}]\n",
      "4.1533398328744875    4.510742081006549\n",
      "Max modularity found (Q): 0.08629463070944764 and number of communities: 4\n",
      "Graph communities: [{0, 4, 5, 6, 10, 12, 16, 17, 19, 21, 22, 23, 24, 26, 27, 28, 31, 35, 36, 39, 42, 44, 45, 46, 49, 50, 51, 52}, {1, 2, 3, 7, 8, 9, 11, 13, 14, 15, 18, 20, 25, 29, 30, 32, 33, 34, 37, 41, 47, 53}, {48, 43, 38}, {40}]\n",
      "Max modularity found (Q): 0.021427368531108604 and number of communities: 31\n",
      "Graph communities: [{0, 1, 36, 37, 6, 10, 42, 12, 46, 49, 20, 25, 29, 31}, {4}, {5}, {7}, {8, 32}, {11}, {13}, {14}, {15}, {16}, {19}, {22}, {35, 44, 51, 21, 53, 23, 24}, {27}, {33}, {3, 38}, {39}, {40}, {41, 34, 47}, {43}, {45}, {48}, {50}, {52}, {17}, {18}, {26}, {28}, {30}, {9}, {2}]\n",
      "3.2694340405054967    2.0457690909639927\n",
      "Max modularity found (Q): 0.08438054244120402 and number of communities: 12\n",
      "Graph communities: [{0, 6, 10, 12, 16, 18, 20, 21, 22, 28, 29, 30, 33, 38, 44, 48, 51, 52, 54}, {4}, {5}, {32, 1, 2, 3, 36, 34, 7, 39, 8, 9, 43, 11, 13, 14, 49, 55, 27, 31}, {35, 15}, {37, 46, 53, 23, 25, 26}, {24, 40, 50, 45}, {41}, {42}, {47}, {17}, {19}]\n",
      "Max modularity found (Q): 0.0013479046536778178 and number of communities: 41\n",
      "Graph communities: [{0}, {4}, {5}, {51, 20, 6}, {7}, {8}, {1, 36, 39, 10, 43, 12}, {11}, {9, 13}, {14}, {15}, {18}, {33, 49, 21, 27, 28}, {22}, {25, 53, 46, 23}, {24}, {26}, {29}, {34}, {35}, {37}, {38}, {40}, {41}, {42}, {44}, {45}, {47}, {48}, {50}, {52}, {54}, {55}, {16}, {17}, {19}, {30}, {31}, {32}, {3}, {2}]\n",
      "4.184461947590534    3.613749811969587\n",
      "Max modularity found (Q): 0.012719397692442246 and number of communities: 28\n",
      "Graph communities: [{0, 37}, {33, 4, 47, 17, 22}, {5}, {16, 1, 35, 6}, {36, 7, 40, 12, 44, 50, 18, 21, 24}, {8}, {2, 10, 43, 23, 27, 28}, {11, 13, 30}, {14}, {15}, {20}, {25}, {31}, {34}, {38}, {39}, {41}, {42}, {45}, {46}, {48}, {49}, {19}, {26}, {29}, {32}, {3}, {9}]\n",
      "Max modularity found (Q): 0.01571125439723844 and number of communities: 34\n",
      "Graph communities: [{0}, {33, 4}, {5}, {6}, {2, 3, 36, 39, 7, 9, 43, 12, 27, 28}, {8}, {10, 47, 18, 20, 24, 29}, {11}, {13}, {14}, {15}, {16}, {17, 45, 38}, {21}, {22}, {23}, {25}, {30}, {31}, {34}, {35}, {37}, {40}, {41}, {42}, {44}, {46}, {48}, {49}, {50}, {1}, {19}, {26}, {32}]\n",
      "673212.4889557584    3.5128018077154928\n",
      "Max modularity found (Q): 0.03953873241960711 and number of communities: 7\n",
      "Graph communities: [{0, 2, 3, 4, 5, 7, 8, 9, 10, 11, 12, 13, 14, 23, 24, 25, 26, 27, 28, 30, 35, 36, 37, 38, 39, 41, 42, 43, 45, 46, 48, 49, 50, 51, 52, 53, 54, 56, 57}, {1, 34, 6, 44, 47, 16, 17, 18, 19, 20, 21, 22, 55, 29}, {15}, {40}, {31}, {32}, {33}]\n",
      "Max modularity found (Q): 0.0054085219053842575 and number of communities: 33\n",
      "Graph communities: [{0, 37, 7, 41, 12, 45, 13, 46}, {56, 42, 27, 4}, {5}, {1, 34, 36, 38, 6, 10, 44, 47, 51, 52, 22, 23, 57, 28, 29, 31}, {8}, {14}, {15}, {16}, {19}, {21}, {24}, {25}, {26}, {39}, {40}, {43}, {48}, {49}, {50}, {53}, {54}, {55}, {17}, {18}, {20}, {30}, {32}, {33}, {2}, {9}, {3}, {11}, {35}]\n",
      "3.1578036645068566    2.0417886513845174\n",
      "Max modularity found (Q): 0.008743398013995552 and number of communities: 28\n",
      "Graph communities: [{0, 1, 34, 6, 40, 10, 43, 19, 30}, {18, 4, 38}, {5, 46, 39}, {7, 41, 13, 45, 49, 52, 53, 22, 23}, {8, 32, 14}, {12}, {15}, {16}, {17}, {21}, {33, 42, 48, 54, 24, 26}, {25}, {35}, {36}, {44}, {47}, {50}, {51}, {20}, {27}, {28}, {29}, {37}, {2}, {9}, {3}, {11}, {31}]\n",
      "Max modularity found (Q): 0.053783815124973676 and number of communities: 27\n",
      "Graph communities: [{0, 32, 34, 6, 40, 10, 43, 47, 50, 20, 24, 25}, {51, 4, 38}, {5, 39, 45, 46, 18, 52}, {33, 2, 3, 7, 41, 11, 44, 13, 31}, {8}, {12}, {14}, {15}, {16, 36}, {17}, {21}, {22}, {23}, {35}, {42}, {49}, {53}, {54}, {1, 29}, {19}, {26}, {27}, {28}, {30}, {37}, {48}, {9}]\n",
      "3.45323119372507    4.358237362602\n"
     ]
    }
   ],
   "source": [
    "g=GeneSet([data1,data3,data2,data4,data5,data6,data7,data8,data9,data10,data11,data12],0,70,pd)\n",
    "for i in range(20):   \n",
    "    a,w,b,c=network.network(g.dataSets,10,[4,5,6,7,8],g.finalGeneSet)\n",
    "    network.totxt(a,w,\"wctweighted.txt\")\n",
    "    network.totxt(a,b,\"corrweighted.txt\")\n",
    "    g1=network.community(\"wctweighted.txt\")\n",
    "    g2=network.community(\"corrweighted.txt\")\n",
    "    if len(g2)== 1:\n",
    "        k1=\"skipped\"\n",
    "    else :\n",
    "        k1,k2,k3=network.dbscoreing(g2,c)\n",
    "    if len(g1)== 1:\n",
    "        k4=\"skipped\"\n",
    "    else :\n",
    "        k4,k5,k6=network.dbscoreing(g1,c)\n",
    "    print(k1,\"  \",k4)"
   ]
  },
  {
   "cell_type": "code",
   "execution_count": null,
   "metadata": {},
   "outputs": [],
   "source": [
    "g=GeneSet([data1,data3,data2,data4,data5,data6,data7,data8,data9,data10,data11,data12],0,30,pd)\n",
    "for i in range(20):   \n",
    "    a,w,b,c=network.network(g.dataSets,10,[4,5,6,7,8],g.finalGeneSet)\n",
    "    network.totxt(a,w,\"wctweighted.txt\")\n",
    "    network.totxt(a,b,\"corrweighted.txt\")\n",
    "    g1=network.community(\"wctweighted.txt\")\n",
    "    g2=network.community(\"corrweighted.txt\")\n",
    "    if len(g2)== 1:\n",
    "        k1=\"skipped\"\n",
    "    else :\n",
    "        k1,k2,k3=network.dbscoreing(g2,c)\n",
    "    if len(g1)== 1:\n",
    "        k4=\"skipped\"\n",
    "    else :\n",
    "        k4,k5,k6=network.dbscoreing(g1,c)\n",
    "    print(k1,\"  \",k4)"
   ]
  }
 ],
 "metadata": {
  "kernelspec": {
   "display_name": "Python 3",
   "language": "python",
   "name": "python3"
  },
  "language_info": {
   "codemirror_mode": {
    "name": "ipython",
    "version": 3
   },
   "file_extension": ".py",
   "mimetype": "text/x-python",
   "name": "python",
   "nbconvert_exporter": "python",
   "pygments_lexer": "ipython3",
   "version": "3.8.2"
  }
 },
 "nbformat": 4,
 "nbformat_minor": 4
}
