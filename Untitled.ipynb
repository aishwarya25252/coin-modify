{
 "cells": [
  {
   "cell_type": "code",
   "execution_count": 1,
   "metadata": {},
   "outputs": [],
   "source": [
    "import numpy as np\n",
    "import pandas as pd\n",
    "from importlib import *"
   ]
  },
  {
   "cell_type": "code",
   "execution_count": 2,
   "metadata": {},
   "outputs": [],
   "source": [
    "from GeneSet import *\n",
    "import network"
   ]
  },
  {
   "cell_type": "code",
   "execution_count": 3,
   "metadata": {},
   "outputs": [],
   "source": [
    "data1=pd.read_csv(\"C:\\\\Users\\\\AISH-pc\\\\project\\\\GSE19615_series_matrix.csv\")\n",
    "data2=pd.read_csv(\"C:\\\\Users\\\\AISH-pc\\\\project\\\\GSE2034_series_matrix.csv\")\n",
    "data3=pd.read_csv(\"C:\\\\Users\\\\AISH-pc\\\\project\\\\GSE20194_series_matrix.csv\")\n",
    "data4=pd.read_csv(\"C:\\\\Users\\\\AISH-pc\\\\project\\\\GSE12093_series_matrix.csv\")\n",
    "data5=pd.read_csv(\"C:\\\\Users\\\\AISH-pc\\\\project\\\\GSE16391_series_matrix.csv\")\n",
    "data6=pd.read_csv(\"C:\\\\Users\\\\AISH-pc\\\\project\\\\GSE16446_series_matrix.csv\")\n",
    "data7=pd.read_csv(\"C:\\\\Users\\\\AISH-pc\\\\project\\\\GSE17705_series_matrix.csv\")\n",
    "data8=pd.read_csv(\"C:\\\\Users\\\\AISH-pc\\\\project\\\\GSE20181_series_matrix.csv\")\n",
    "data9=pd.read_csv(\"C:\\\\Users\\\\AISH-pc\\\\project\\\\GSE20194_series_matrix.csv\")\n",
    "data10=pd.read_csv(\"C:\\\\Users\\\\AISH-pc\\\\project\\\\GSE25055_series_matrix.csv\")\n",
    "data11=pd.read_csv(\"C:\\\\Users\\\\AISH-pc\\\\project\\\\GSE25065_series_matrix.csv\")\n",
    "data12=pd.read_csv(\"C:\\\\Users\\\\AISH-pc\\\\project\\\\GSE32646_series_matrix.csv\")"
   ]
  },
  {
   "cell_type": "code",
   "execution_count": 4,
   "metadata": {},
   "outputs": [],
   "source": [
    "g=GeneSet([data1,data3,data2,data4,data5],0,60,pd)"
   ]
  },
  {
   "cell_type": "code",
   "execution_count": 5,
   "metadata": {},
   "outputs": [
    {
     "data": {
      "text/plain": [
       "218"
      ]
     },
     "execution_count": 5,
     "metadata": {},
     "output_type": "execute_result"
    }
   ],
   "source": [
    "len(g.finalGeneSet)"
   ]
  },
  {
   "cell_type": "code",
   "execution_count": null,
   "metadata": {},
   "outputs": [],
   "source": [
    "a,w,b,c=network.network(g.dataSets,10,[4,5,6,7,8],g.finalGeneSet)"
   ]
  },
  {
   "cell_type": "code",
   "execution_count": null,
   "metadata": {},
   "outputs": [],
   "source": [
    "network.totxt(a,w,\"wctweighted.txt\")"
   ]
  },
  {
   "cell_type": "code",
   "execution_count": null,
   "metadata": {},
   "outputs": [],
   "source": [
    "network.totxt(a,b,\"corrweighted.txt\")"
   ]
  },
  {
   "cell_type": "code",
   "execution_count": null,
   "metadata": {},
   "outputs": [],
   "source": [
    "g1=network.community(\"wctweighted.txt\")\n",
    "g2=network.community(\"corrweighted.txt\")"
   ]
  },
  {
   "cell_type": "code",
   "execution_count": null,
   "metadata": {},
   "outputs": [],
   "source": [
    "k1,k2,k3=dbscoreing.dbscoreing(g2,c)\n",
    "k4,k5,k6=dbscoreing.dbscoreing(g1,c)"
   ]
  },
  {
   "cell_type": "code",
   "execution_count": null,
   "metadata": {},
   "outputs": [],
   "source": [
    "k1"
   ]
  },
  {
   "cell_type": "code",
   "execution_count": null,
   "metadata": {},
   "outputs": [],
   "source": [
    "k4"
   ]
  },
  {
   "cell_type": "code",
   "execution_count": 6,
   "metadata": {},
   "outputs": [
    {
     "name": "stdout",
     "output_type": "stream",
     "text": [
      "2.3408166644140582    2.102323428980305\n",
      "3.6659358558210693    3.410352943281545\n",
      "3.7642329133318864    2.327660620552922\n",
      "4.995970325707273    2.775010551982162\n",
      "3.0215714928673774    3.029530101012149\n",
      "14.587116143111906    3.511287024144095\n",
      "6.701792561312912    5.388892382039607\n",
      "7.749884733961559    4.511181781406398\n",
      "3.7806044842320006    5.034174302440811\n",
      "3.21901635618824    10.319005417264846\n",
      "3.3086564460050716    2.58324698926847\n",
      "3.7642329133318864    2.327660620552922\n",
      "3.4507987336663555    5.551922507462409\n",
      "5.63401424941864    4.947949983991044\n",
      "2.9150067325526945    2.821332249478284\n",
      "5.867962457063528    6.378806002494302\n",
      "3.7863214128132543    9.784558341096195\n",
      "10.336086550944934    4.531959683885123\n",
      "3.3086564460050716    2.58324698926847\n",
      "10.336086550944934    4.531959683885123\n"
     ]
    }
   ],
   "source": [
    "g=GeneSet([data1,data3,data2,data4,data5],0,60,pd)\n",
    "for i in range(20):   \n",
    "    a,w,b,c=network.network(g.dataSets,10,[4,5,6,7,8],g.finalGeneSet)\n",
    "    network.totxt(a,w,\"wctweighted.txt\")\n",
    "    network.totxt(a,b,\"corrweighted.txt\")\n",
    "    g1=network.community(\"wctweighted.txt\")\n",
    "    g2=network.community(\"corrweighted.txt\")\n",
    "    k1,k2,k3=network.dbscoreing(g2,c)\n",
    "    k4,k5,k6=network.dbscoreing(g1,c)\n",
    "    print(k1,\"  \",k4)"
   ]
  },
  {
   "cell_type": "code",
   "execution_count": null,
   "metadata": {},
   "outputs": [],
   "source": [
    "g=GeneSet([data1,data3,data2,data4,data5,data6,data7,data8,data9,data10,data11,data12],0,70,pd)\n",
    "for i in range(20):   \n",
    "    a,w,b,c=network.network(g.dataSets,10,[4,5,6,7,8],g.finalGeneSet)\n",
    "    network.totxt(a,w,\"wctweighted.txt\")\n",
    "    network.totxt(a,b,\"corrweighted.txt\")\n",
    "    g1=network.community(\"wctweighted.txt\")\n",
    "    g2=network.community(\"corrweighted.txt\")\n",
    "    k1,k2,k3=network.dbscoreing(g2,c)\n",
    "    k4,k5,k6=network.dbscoreing(g1,c)\n",
    "    print(k1,\"  \",k4)"
   ]
  }
 ],
 "metadata": {
  "kernelspec": {
   "display_name": "Python 3",
   "language": "python",
   "name": "python3"
  },
  "language_info": {
   "codemirror_mode": {
    "name": "ipython",
    "version": 3
   },
   "file_extension": ".py",
   "mimetype": "text/x-python",
   "name": "python",
   "nbconvert_exporter": "python",
   "pygments_lexer": "ipython3",
   "version": "3.8.2"
  }
 },
 "nbformat": 4,
 "nbformat_minor": 4
}
